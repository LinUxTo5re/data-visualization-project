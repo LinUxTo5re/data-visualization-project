{
 "cells": [
  {
   "cell_type": "code",
   "execution_count": 2,
   "id": "7c8abb25",
   "metadata": {},
   "outputs": [],
   "source": [
    "import seaborn as sns\n",
    "import matplotlib.pyplot as plt\n",
    "import numpy as np\n",
    "import pandas as pd\n",
    "%matplotlib inline"
   ]
  },
  {
   "cell_type": "code",
   "execution_count": 3,
   "id": "0268ddcf",
   "metadata": {},
   "outputs": [
    {
     "name": "stdout",
     "output_type": "stream",
     "text": [
      "Defaulting to user installation because normal site-packages is not writeable\n",
      "Collecting squarify\n",
      "  Downloading squarify-0.4.3-py3-none-any.whl (4.3 kB)\n",
      "Installing collected packages: squarify\n",
      "Successfully installed squarify-0.4.3\n"
     ]
    }
   ],
   "source": [
    "!pip install squarify\n",
    "import squarify"
   ]
  },
  {
   "cell_type": "code",
   "execution_count": 4,
   "id": "dc168cb2",
   "metadata": {},
   "outputs": [
    {
        "data": {
            "text/plain": [
                "['__builtins__',\n",
                " '__cached__',\n",
                " '__doc__',\n",
                " '__file__',\n",
                " '__loader__',\n",
                " '__name__',\n",
                " '__package__',\n",
                " '__path__',\n",
                " '__spec__',\n",
                " 'layout',\n",
                " 'layoutcol',\n",
                " 'layoutrow',\n",
                " 'leftover',\n",
                " 'leftovercol',\n",
                " 'leftoverrow',\n",
                " 'normalize_sizes',\n",
                " 'pad_rectangle',\n",
                " 'padded_squarify',\n",
                " 'plot',\n",
                " 'squarify',\n",
                " 'worst_ratio']"
            ]
        }
    }
  ]
  }
 ]
}
